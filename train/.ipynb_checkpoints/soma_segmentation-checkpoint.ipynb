{
 "cells": [
  {
   "cell_type": "markdown",
   "id": "e16102fd",
   "metadata": {},
   "source": [
    "# Steps for training detectron2 on custom data"
   ]
  },
  {
   "cell_type": "markdown",
   "id": "3edff8f4",
   "metadata": {},
   "source": [
    "### Loading necessary libraries"
   ]
  },
  {
   "cell_type": "code",
   "execution_count": 1,
   "id": "480f0a92",
   "metadata": {
    "scrolled": true
   },
   "outputs": [
    {
     "ename": "ModuleNotFoundError",
     "evalue": "No module named 'detectron2'",
     "output_type": "error",
     "traceback": [
      "\u001b[1;31m---------------------------------------------------------------------------\u001b[0m",
      "\u001b[1;31mModuleNotFoundError\u001b[0m                       Traceback (most recent call last)",
      "\u001b[1;32m<ipython-input-1-522ab5843dfe>\u001b[0m in \u001b[0;36m<module>\u001b[1;34m\u001b[0m\n\u001b[0;32m      9\u001b[0m \u001b[1;33m\u001b[0m\u001b[0m\n\u001b[0;32m     10\u001b[0m \u001b[0mos\u001b[0m\u001b[1;33m.\u001b[0m\u001b[0mchdir\u001b[0m\u001b[1;33m(\u001b[0m\u001b[1;34m\"C:/Users/admin/Documents/Python Scripts/Soma-Segmentation/train\"\u001b[0m\u001b[1;33m)\u001b[0m\u001b[1;33m\u001b[0m\u001b[1;33m\u001b[0m\u001b[0m\n\u001b[1;32m---> 11\u001b[1;33m \u001b[1;32mfrom\u001b[0m \u001b[0mutils\u001b[0m \u001b[1;32mimport\u001b[0m \u001b[0mImageJ2COCO\u001b[0m\u001b[1;33m\u001b[0m\u001b[1;33m\u001b[0m\u001b[0m\n\u001b[0m\u001b[0;32m     12\u001b[0m \u001b[1;32mfrom\u001b[0m \u001b[0mconfig\u001b[0m \u001b[1;32mimport\u001b[0m \u001b[0mconfiguration\u001b[0m\u001b[1;33m\u001b[0m\u001b[1;33m\u001b[0m\u001b[0m\n\u001b[0;32m     13\u001b[0m \u001b[1;32mfrom\u001b[0m \u001b[0msegmentation_predictor\u001b[0m \u001b[1;32mimport\u001b[0m \u001b[0mpredict_img\u001b[0m\u001b[1;33m\u001b[0m\u001b[1;33m\u001b[0m\u001b[0m\n",
      "\u001b[1;32m~\\Documents\\Python Scripts\\Soma-Segmentation\\train\\utils.py\u001b[0m in \u001b[0;36m<module>\u001b[1;34m\u001b[0m\n\u001b[0;32m      8\u001b[0m \u001b[1;32mimport\u001b[0m \u001b[0mcv2\u001b[0m\u001b[1;33m\u001b[0m\u001b[1;33m\u001b[0m\u001b[0m\n\u001b[0;32m      9\u001b[0m \u001b[1;32mfrom\u001b[0m \u001b[0mtqdm\u001b[0m \u001b[1;32mimport\u001b[0m \u001b[0mtqdm\u001b[0m\u001b[1;33m\u001b[0m\u001b[1;33m\u001b[0m\u001b[0m\n\u001b[1;32m---> 10\u001b[1;33m \u001b[1;32mfrom\u001b[0m \u001b[0mdetectron2\u001b[0m\u001b[1;33m.\u001b[0m\u001b[0mstructures\u001b[0m \u001b[1;32mimport\u001b[0m \u001b[0mBoxMode\u001b[0m\u001b[1;33m\u001b[0m\u001b[1;33m\u001b[0m\u001b[0m\n\u001b[0m\u001b[0;32m     11\u001b[0m \u001b[1;32mimport\u001b[0m \u001b[0mpdb\u001b[0m\u001b[1;33m\u001b[0m\u001b[1;33m\u001b[0m\u001b[0m\n\u001b[0;32m     12\u001b[0m \u001b[1;32mimport\u001b[0m \u001b[0mmatplotlib\u001b[0m\u001b[1;33m.\u001b[0m\u001b[0mpyplot\u001b[0m \u001b[1;32mas\u001b[0m \u001b[0mplt\u001b[0m\u001b[1;33m\u001b[0m\u001b[1;33m\u001b[0m\u001b[0m\n",
      "\u001b[1;31mModuleNotFoundError\u001b[0m: No module named 'detectron2'"
     ]
    }
   ],
   "source": [
    "import h5py\n",
    "import os\n",
    "from matplotlib import pyplot as plt\n",
    "import cv2\n",
    "import numpy as np\n",
    "import pandas as pd\n",
    "%config Completer.use_jedi = False\n",
    "\n",
    "\n",
    "os.chdir(\"C:/Users/admin/Documents/Python Scripts/Soma-Segmentation/train\")\n",
    "from utils import ImageJ2COCO\n",
    "from config import configuration\n",
    "from segmentation_predictor import predict_img\n",
    "\n",
    "\n",
    "#from train import run_train\n",
    "from detectron2.data.datasets import register_coco_instances\n",
    "from detectron2.engine import DefaultTrainer\n",
    "\n",
    "from detectron2.config import get_cfg\n",
    "from detectron2 import model_zoo\n",
    "\n",
    "from detectron2.data import MetadataCatalog, DatasetCatalog\n",
    "\n",
    "from detectron2.utils.visualizer import ColorMode\n",
    "from detectron2.utils.visualizer import Visualizer\n",
    "\n",
    "from detectron2.engine import DefaultPredictor"
   ]
  },
  {
   "cell_type": "markdown",
   "id": "411cdd81",
   "metadata": {},
   "source": [
    "### Registering data"
   ]
  },
  {
   "cell_type": "code",
   "execution_count": null,
   "id": "dd46383b",
   "metadata": {},
   "outputs": [],
   "source": [
    "# if data already is in COCO style\n",
    "register_coco_instances(\"train\", {}, \"I:/Sina/Medical report segmentation/publaynet/train.json\", \n",
    "                        \"I:/Sina/Medical report segmentation/publaynet/train\")\n",
    "register_coco_instances(\"val\", {}, \"I:/Sina/Medical report segmentation/publaynet/val.json\", \n",
    "                        \"I:/Sina/Medical report segmentation/publaynet/val\")"
   ]
  },
  {
   "cell_type": "code",
   "execution_count": null,
   "id": "e7d9100e",
   "metadata": {},
   "outputs": [],
   "source": [
    "# for custom data with custom written dataloader\n",
    "\n",
    "# dataloader for train dataset (this custom written data loader is able to load multple datasets from different location)\n",
    "img2coco_train = ImageJ2COCO(image_path=[\"G:/Data & Analysis/150802_p3.5_gcamp6/Data/150802_p3.5_gcamp6 H5/150802_a3_1h40min.h5\",\n",
    "                                   \"G:/Data & Analysis/150802_p3.5_gcamp6/Data/150802_p3.5_gcamp6 H5/150802_a3_1h40min.h5\"], \n",
    "                       label_path=[\"G:/Data & Analysis/150802_p3.5_gcamp6/Analysis/ROIS and Inside Activities/RoiSetFull.zip\", \n",
    "                                   \"G:/Data & Analysis/150802_p3.5_gcamp6/Analysis/ROIS and Inside Activities/RoiSetFull.zip\"], \n",
    "                       output_path=\"C:/Users/admin/Desktop/COCO test2\", \n",
    "                       start_index=[10000, 12000], \n",
    "                       end_index=[12000, 14000], \n",
    "                       image_nr=[1400, 1500], \n",
    "                       id_starter=[1, 2000], \n",
    "                       min_intensity = [100, 100], \n",
    "                       max_intensity = [4000, 3000], \n",
    "                       key = [\"GroupHierarchy.Groups.Datasets\", \n",
    "                              \"GroupHierarchy.Groups.Datasets\"])\n",
    "\n",
    "# dataloader for validation dataset (this custom written data loader is able to load multple datasets from different location)\n",
    "img2coco_val = ImageJ2COCO(image_path=[\"G:/Data & Analysis/150802_p3.5_gcamp6/Data/150802_p3.5_gcamp6 H5/150802_a3_1h40min.h5\",\n",
    "                                   \"G:/Data & Analysis/150802_p3.5_gcamp6/Data/150802_p3.5_gcamp6 H5/150802_a3_1h40min.h5\"], \n",
    "                       label_path=[\"G:/Data & Analysis/150802_p3.5_gcamp6/Analysis/ROIS and Inside Activities/RoiSetFull.zip\", \n",
    "                                   \"G:/Data & Analysis/150802_p3.5_gcamp6/Analysis/ROIS and Inside Activities/RoiSetFull.zip\"], \n",
    "                       output_path=\"C:/Users/admin/Desktop/COCO test2\", \n",
    "                       start_index=[1000, 1200], \n",
    "                       end_index=[20000, 40000], \n",
    "                       image_nr=[800, 800], \n",
    "                       id_starter=[3000, 4000], \n",
    "                       min_intensity = [100, 100], \n",
    "                       max_intensity = [4000, 3000], \n",
    "                       key = [\"GroupHierarchy.Groups.Datasets\", \n",
    "                              \"GroupHierarchy.Groups.Datasets\"])\n",
    "\n",
    "# register train data set\n",
    "DatasetCatalog.register(\"train\", img2coco_train.transform)\n",
    "MetadataCatalog.get(\"train\").set(thing_classes=[\"soma\"]) # define classes as well\n",
    "\n",
    "# register validation data set\n",
    "DatasetCatalog.register(\"val\", img2coco_val.transform)\n",
    "MetadataCatalog.get(\"val\").set(thing_classes=[\"soma\"]) # define classes as well\n",
    "\n",
    "metadata = MetadataCatalog.get(\"train\")"
   ]
  },
  {
   "cell_type": "markdown",
   "id": "17cb72f6",
   "metadata": {},
   "source": [
    "### Model configuration"
   ]
  },
  {
   "cell_type": "code",
   "execution_count": null,
   "id": "5f81493d",
   "metadata": {},
   "outputs": [],
   "source": [
    "# configuration file\n",
    "cfg = configuration(num_classes=1,\n",
    "                    train_output_path=\"C:/Users/admin/Desktop/COCO test2/out\",\n",
    "                    min_image_size=240,\n",
    "                    image_per_batch=1,\n",
    "                    max_iter=150,\n",
    "                    model_weights=False, # if you have another weights give that one\n",
    "                    validation=False) # if you have validation turn it to True"
   ]
  },
  {
   "cell_type": "markdown",
   "id": "bcd376cf",
   "metadata": {},
   "source": [
    "### Model training"
   ]
  },
  {
   "cell_type": "code",
   "execution_count": null,
   "id": "77873772",
   "metadata": {},
   "outputs": [],
   "source": [
    "# start training\n",
    "\n",
    "trainer = DefaultTrainer(cfg)\n",
    "trainer.resume_or_load(resume=False)\n",
    "trainer.train()"
   ]
  },
  {
   "cell_type": "markdown",
   "id": "de48c7d9",
   "metadata": {},
   "source": [
    "### Model prediction"
   ]
  },
  {
   "cell_type": "code",
   "execution_count": null,
   "id": "799750ee",
   "metadata": {},
   "outputs": [],
   "source": [
    "# on single image\n",
    "\n",
    "# save result's image\n",
    "save_img = False\n",
    "\n",
    "# get dir path to image\n",
    "img_path = \"\"\n",
    "\n",
    "# model weights (after training)\n",
    "model_weights_path = \"\"\n",
    "\n",
    "# path for saving final results\n",
    "save_path = \"\"\n",
    "\n",
    "# get configuration file same as used during training\n",
    "cfg = configuration(num_classes=1,\n",
    "                    train_output_path=\"C:/Users/admin/Desktop/COCO test2/out\",\n",
    "                    min_image_size=240,\n",
    "                    image_per_batch=1,\n",
    "                    max_iter=150,\n",
    "                    model_weights=model_weights_path,\n",
    "                    validation=False)\n",
    "\n",
    "# initialize main dataframe\n",
    "df = pd.DataFrame()\n",
    "\n",
    "\n",
    "df = predict_img(cfg=cfg, img_path=img_path, save_path=save_path,\n",
    "                   img_save=save_img, df_save=False, score_thresh=0.7)\n",
    "\n",
    "# save main dataframe\n",
    "print(\"saving data frame!\")\n",
    "df.to_csv(os.path.join(save_path, \"main_results\") + \".csv\", index=False)"
   ]
  },
  {
   "cell_type": "code",
   "execution_count": null,
   "id": "e17613d9",
   "metadata": {},
   "outputs": [],
   "source": [
    "# on multiple images\n",
    "\n",
    "# save result's image\n",
    "save_img = False\n",
    "\n",
    "# get dir path to images\n",
    "imgs_path = \"\"\n",
    "\n",
    "# get images info\n",
    "imgs = os.listdir(imgs_path)\n",
    "\n",
    "# model weights (after training)\n",
    "model_weights_path = \"\"\n",
    "\n",
    "# path for saving final results\n",
    "save_path = \"\"\n",
    "\n",
    "# get configuration file same as used during training\n",
    "cfg = configuration(num_classes=1,\n",
    "                    train_output_path=\"C:/Users/admin/Desktop/COCO test2/out\",\n",
    "                    min_image_size=240,\n",
    "                    image_per_batch=1,\n",
    "                    max_iter=150,\n",
    "                    model_weights=model_weights_path,\n",
    "                    validation=False)\n",
    "\n",
    "# initialize main dataframe\n",
    "df = pd.DataFrame()\n",
    "\n",
    "# starting looping results\n",
    "for img in imgs:\n",
    "    df = df.append(predict_img(cfg=cfg, img_path=img, save_path=save_path,\n",
    "                               img_save=save_img, df_save=False, score_thresh=0.7), ignore_index=True)\n",
    "\n",
    "# save main dataframe\n",
    "print(\"saving data frame!\")\n",
    "df.to_csv(os.path.join(save_path, \"main_results\") + \".csv\", index=False)"
   ]
  }
 ],
 "metadata": {
  "kernelspec": {
   "display_name": "Python 3",
   "language": "python",
   "name": "python3"
  },
  "language_info": {
   "codemirror_mode": {
    "name": "ipython",
    "version": 3
   },
   "file_extension": ".py",
   "mimetype": "text/x-python",
   "name": "python",
   "nbconvert_exporter": "python",
   "pygments_lexer": "ipython3",
   "version": "3.7.9"
  }
 },
 "nbformat": 4,
 "nbformat_minor": 5
}
